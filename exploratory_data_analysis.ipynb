{
 "cells": [
  {
   "cell_type": "code",
   "execution_count": 330,
   "metadata": {},
   "outputs": [],
   "source": [
    "# Import necessary libraries for data manipulation, visualization, and modeling\n",
    "import pandas as pd\n",
    "import numpy as np\n",
    "import matplotlib.pyplot as plt\n",
    "import seaborn as sns\n",
    "from sklearn.linear_model import LinearRegression\n",
    "from sklearn.model_selection import train_test_split\n",
    "from sklearn.metrics import mean_squared_error\n",
    "from sklearn.metrics import mean_squared_error, r2_score\n",
    "from statsmodels.stats.outliers_influence import variance_inflation_factor \n",
    "\n",
    "import utils\n"
   ]
  },
  {
   "cell_type": "code",
   "execution_count": 338,
   "metadata": {},
   "outputs": [],
   "source": [
    "# Load the dataset\n",
    "df = pd.read_csv('ena_1h_data.csv')\n",
    "\n",
    "df.dropna(inplace=True)\n"
   ]
  },
  {
   "cell_type": "code",
   "execution_count": 332,
   "metadata": {},
   "outputs": [
    {
     "data": {
      "text/html": [
       "<div>\n",
       "<style scoped>\n",
       "    .dataframe tbody tr th:only-of-type {\n",
       "        vertical-align: middle;\n",
       "    }\n",
       "\n",
       "    .dataframe tbody tr th {\n",
       "        vertical-align: top;\n",
       "    }\n",
       "\n",
       "    .dataframe thead th {\n",
       "        text-align: right;\n",
       "    }\n",
       "</style>\n",
       "<table border=\"1\" class=\"dataframe\">\n",
       "  <thead>\n",
       "    <tr style=\"text-align: right;\">\n",
       "      <th></th>\n",
       "      <th>Datetime</th>\n",
       "      <th>ETH_Price</th>\n",
       "      <th>ETH_Returns</th>\n",
       "      <th>ENA_Price</th>\n",
       "      <th>ENA_Returns</th>\n",
       "      <th>claimed</th>\n",
       "      <th>Implied_APY</th>\n",
       "    </tr>\n",
       "  </thead>\n",
       "  <tbody>\n",
       "    <tr>\n",
       "      <th>909</th>\n",
       "      <td>2024-05-10 07:00:00+00:00</td>\n",
       "      <td>3044.610840</td>\n",
       "      <td>-0.000791</td>\n",
       "      <td>0.892792</td>\n",
       "      <td>-0.009184</td>\n",
       "      <td>1349.758759</td>\n",
       "      <td>0.6695</td>\n",
       "    </tr>\n",
       "    <tr>\n",
       "      <th>910</th>\n",
       "      <td>2024-05-10 08:00:00+00:00</td>\n",
       "      <td>3034.450439</td>\n",
       "      <td>-0.003337</td>\n",
       "      <td>0.899631</td>\n",
       "      <td>0.007661</td>\n",
       "      <td>817295.558079</td>\n",
       "      <td>0.6789</td>\n",
       "    </tr>\n",
       "    <tr>\n",
       "      <th>911</th>\n",
       "      <td>2024-05-10 09:00:00+00:00</td>\n",
       "      <td>3032.583984</td>\n",
       "      <td>-0.000615</td>\n",
       "      <td>0.913862</td>\n",
       "      <td>0.015819</td>\n",
       "      <td>44128.360165</td>\n",
       "      <td>0.6817</td>\n",
       "    </tr>\n",
       "    <tr>\n",
       "      <th>912</th>\n",
       "      <td>2024-05-10 10:00:00+00:00</td>\n",
       "      <td>3029.004150</td>\n",
       "      <td>-0.001180</td>\n",
       "      <td>0.923416</td>\n",
       "      <td>0.010454</td>\n",
       "      <td>27496.414754</td>\n",
       "      <td>0.6269</td>\n",
       "    </tr>\n",
       "    <tr>\n",
       "      <th>913</th>\n",
       "      <td>2024-05-10 11:00:00+00:00</td>\n",
       "      <td>3037.237793</td>\n",
       "      <td>0.002718</td>\n",
       "      <td>0.933542</td>\n",
       "      <td>0.010966</td>\n",
       "      <td>165469.587617</td>\n",
       "      <td>0.6615</td>\n",
       "    </tr>\n",
       "    <tr>\n",
       "      <th>...</th>\n",
       "      <td>...</td>\n",
       "      <td>...</td>\n",
       "      <td>...</td>\n",
       "      <td>...</td>\n",
       "      <td>...</td>\n",
       "      <td>...</td>\n",
       "      <td>...</td>\n",
       "    </tr>\n",
       "    <tr>\n",
       "      <th>2285</th>\n",
       "      <td>2024-07-06 15:00:00+00:00</td>\n",
       "      <td>3020.968018</td>\n",
       "      <td>0.002349</td>\n",
       "      <td>0.386383</td>\n",
       "      <td>0.005134</td>\n",
       "      <td>55.223052</td>\n",
       "      <td>0.8350</td>\n",
       "    </tr>\n",
       "    <tr>\n",
       "      <th>2289</th>\n",
       "      <td>2024-07-06 19:00:00+00:00</td>\n",
       "      <td>3061.568604</td>\n",
       "      <td>0.001819</td>\n",
       "      <td>0.408672</td>\n",
       "      <td>0.011487</td>\n",
       "      <td>1064.805000</td>\n",
       "      <td>0.8372</td>\n",
       "    </tr>\n",
       "    <tr>\n",
       "      <th>2291</th>\n",
       "      <td>2024-07-06 21:00:00+00:00</td>\n",
       "      <td>3060.506348</td>\n",
       "      <td>-0.001214</td>\n",
       "      <td>0.415883</td>\n",
       "      <td>0.010463</td>\n",
       "      <td>26.244198</td>\n",
       "      <td>0.8412</td>\n",
       "    </tr>\n",
       "    <tr>\n",
       "      <th>2292</th>\n",
       "      <td>2024-07-06 22:00:00+00:00</td>\n",
       "      <td>3065.938477</td>\n",
       "      <td>0.001775</td>\n",
       "      <td>0.413358</td>\n",
       "      <td>-0.006072</td>\n",
       "      <td>622.436730</td>\n",
       "      <td>0.8186</td>\n",
       "    </tr>\n",
       "    <tr>\n",
       "      <th>2293</th>\n",
       "      <td>2024-07-06 23:00:00+00:00</td>\n",
       "      <td>3068.299561</td>\n",
       "      <td>0.000770</td>\n",
       "      <td>0.412295</td>\n",
       "      <td>-0.002570</td>\n",
       "      <td>776.569899</td>\n",
       "      <td>0.8165</td>\n",
       "    </tr>\n",
       "  </tbody>\n",
       "</table>\n",
       "<p>950 rows × 7 columns</p>\n",
       "</div>"
      ],
      "text/plain": [
       "                       Datetime    ETH_Price  ETH_Returns  ENA_Price  \\\n",
       "909   2024-05-10 07:00:00+00:00  3044.610840    -0.000791   0.892792   \n",
       "910   2024-05-10 08:00:00+00:00  3034.450439    -0.003337   0.899631   \n",
       "911   2024-05-10 09:00:00+00:00  3032.583984    -0.000615   0.913862   \n",
       "912   2024-05-10 10:00:00+00:00  3029.004150    -0.001180   0.923416   \n",
       "913   2024-05-10 11:00:00+00:00  3037.237793     0.002718   0.933542   \n",
       "...                         ...          ...          ...        ...   \n",
       "2285  2024-07-06 15:00:00+00:00  3020.968018     0.002349   0.386383   \n",
       "2289  2024-07-06 19:00:00+00:00  3061.568604     0.001819   0.408672   \n",
       "2291  2024-07-06 21:00:00+00:00  3060.506348    -0.001214   0.415883   \n",
       "2292  2024-07-06 22:00:00+00:00  3065.938477     0.001775   0.413358   \n",
       "2293  2024-07-06 23:00:00+00:00  3068.299561     0.000770   0.412295   \n",
       "\n",
       "      ENA_Returns        claimed  Implied_APY  \n",
       "909     -0.009184    1349.758759       0.6695  \n",
       "910      0.007661  817295.558079       0.6789  \n",
       "911      0.015819   44128.360165       0.6817  \n",
       "912      0.010454   27496.414754       0.6269  \n",
       "913      0.010966  165469.587617       0.6615  \n",
       "...           ...            ...          ...  \n",
       "2285     0.005134      55.223052       0.8350  \n",
       "2289     0.011487    1064.805000       0.8372  \n",
       "2291     0.010463      26.244198       0.8412  \n",
       "2292    -0.006072     622.436730       0.8186  \n",
       "2293    -0.002570     776.569899       0.8165  \n",
       "\n",
       "[950 rows x 7 columns]"
      ]
     },
     "execution_count": 332,
     "metadata": {},
     "output_type": "execute_result"
    }
   ],
   "source": [
    "df"
   ]
  },
  {
   "cell_type": "code",
   "execution_count": 333,
   "metadata": {},
   "outputs": [
    {
     "data": {
      "image/png": "[encoded data removed]",
      "text/plain": [
       "<Figure size 720x576 with 2 Axes>"
      ]
     },
     "metadata": {
      "needs_background": "light"
     },
     "output_type": "display_data"
    }
   ],
   "source": [
    "# Calculate the correlation matrix\n",
    "corr = df.corr()\n",
    "\n",
    "# Visualize the correlation matrix using a heatmap\n",
    "plt.figure(figsize=(10, 8))\n",
    "sns.heatmap(corr, annot=True, cmap='coolwarm', fmt=\".2f\", linewidths=0.5)\n",
    "plt.title('Correlation Matrix')\n",
    "plt.show()"
   ]
  },
  {
   "cell_type": "code",
   "execution_count": 337,
   "metadata": {},
   "outputs": [
    {
     "name": "stdout",
     "output_type": "stream",
     "text": [
      "       Feature         VIF\n",
      "0  ETH_Returns    1.000591\n",
      "1      claimed    1.007302\n",
      "2  Implied_APY  175.296740\n",
      "3    ETH_Price  175.365323\n"
     ]
    }
   ],
   "source": [
    "# Check VIF of potential predictor variables\n",
    "X = df[['ETH_Returns', 'claimed', 'Implied_APY', 'ETH_Price']]\n",
    "\n",
    "# Initialize DataFrame to store VIF for each feature\n",
    "vif_data = pd.DataFrame()\n",
    "vif_data[\"Feature\"] = X.columns\n",
    "\n",
    "# Calculate VIF for each feature\n",
    "vif_data[\"VIF\"] = [variance_inflation_factor(X.values, i) for i in range(len(X.columns))]\n",
    "\n",
    "print(vif_data)\n"
   ]
  },
  {
   "cell_type": "markdown",
   "metadata": {},
   "source": [
    "### Create a simple linear regression to investigate how much do eth returns explain the returns of ENA"
   ]
  },
  {
   "cell_type": "code",
   "execution_count": null,
   "metadata": {},
   "outputs": [],
   "source": [
    "# Fit a linear regression model to the data\n",
    "X = df['ETH_Returns'].values.reshape(-1, 1)\n",
    "y = df['ENA_Returns'].values.reshape(-1, 1)\n",
    "\n",
    "# Split data into training and testing sets\n",
    "X_train, X_test, y_train, y_test = train_test_split(X, y, test_size=0.2, random_state=42)"
   ]
  },
  {
   "cell_type": "code",
   "execution_count": null,
   "metadata": {},
   "outputs": [
    {
     "name": "stdout",
     "output_type": "stream",
     "text": [
      "Coefficient: 1.5276\n",
      "Intercept: -0.0006\n"
     ]
    }
   ],
   "source": [
    "# Initialize and fit the linear regression model\n",
    "reg = LinearRegression().fit(X_train, y_train)\n",
    "\n",
    "# Print the coefficients of the model\n",
    "print(f'Coefficient: {reg.coef_[0][0]:.4f}')\n",
    "print(f'Intercept: {reg.intercept_[0]:.4f}')\n"
   ]
  },
  {
   "cell_type": "code",
   "execution_count": null,
   "metadata": {},
   "outputs": [
    {
     "data": {
      "text/plain": [
       "0.3365107590957289"
      ]
     },
     "execution_count": 313,
     "metadata": {},
     "output_type": "execute_result"
    }
   ],
   "source": [
    "score = reg.score(X_train, y_train)\n",
    "score"
   ]
  },
  {
   "cell_type": "code",
   "execution_count": null,
   "metadata": {},
   "outputs": [
    {
     "name": "stdout",
     "output_type": "stream",
     "text": [
      "R^2 Score on Test Data: 0.4064\n",
      "Mean Squared Error: 0.0001\n"
     ]
    }
   ],
   "source": [
    "# Evaluate the model using R-squared score\n",
    "score = reg.score(X_test, y_test)\n",
    "print(f'R^2 Score on Test Data: {score:.4f}')\n",
    "\n",
    "# Predict on the test data\n",
    "y_pred = reg.predict(X_test)\n",
    "\n",
    "# Calculate the mean squared error\n",
    "mse = mean_squared_error(y_test, y_pred)\n",
    "print(f'Mean Squared Error: {mse:.4f}')"
   ]
  },
  {
   "cell_type": "markdown",
   "metadata": {},
   "source": [
    "Interestinlgly, the R squared is higher for the test data. Could this be due to ENA becoming a more mature asset and therefore more correlated with the market?"
   ]
  },
  {
   "cell_type": "code",
   "execution_count": null,
   "metadata": {},
   "outputs": [
    {
     "data": {
      "image/png": "[encoded data removed]",
      "text/plain": [
       "<Figure size 720x432 with 1 Axes>"
      ]
     },
     "metadata": {
      "needs_background": "light"
     },
     "output_type": "display_data"
    }
   ],
   "source": [
    "# Calculate residuals\n",
    "residuals = y_test - y_pred\n",
    "\n",
    "# Plot residuals to check for any patterns\n",
    "plt.figure(figsize=(10, 6))\n",
    "plt.scatter(y_pred, residuals)\n",
    "plt.axhline(y=0, color='red', linestyle='--')\n",
    "plt.xlabel('Predicted Values')\n",
    "plt.ylabel('Residuals')\n",
    "plt.title('Residual Plot')\n",
    "plt.show()"
   ]
  },
  {
   "cell_type": "markdown",
   "metadata": {},
   "source": [
    "### Ena returns based on ETH returns and Implied APY"
   ]
  },
  {
   "cell_type": "code",
   "execution_count": null,
   "metadata": {},
   "outputs": [],
   "source": [
    "# Define the features and the target\n",
    "X = df[['ETH_Returns', 'Implied_APY', 'claimed']]  # features\n",
    "y = df['ENA_Returns']                  # target\n",
    "\n",
    "# Split the dataset into training and testing sets\n",
    "X_train, X_test, y_train, y_test = train_test_split(X, y, test_size=0.2, random_state=42)\n",
    "\n",
    "# Create a linear regression model\n",
    "model = LinearRegression().fit(X_train, y_train)"
   ]
  },
  {
   "cell_type": "code",
   "execution_count": null,
   "metadata": {},
   "outputs": [
    {
     "name": "stdout",
     "output_type": "stream",
     "text": [
      "R-squared: 0.4048\n",
      "Mean Squared Error: 0.0001\n"
     ]
    }
   ],
   "source": [
    "# Predict on the test data\n",
    "y_pred = model.predict(X_test)\n",
    "\n",
    "# Calculate R-squared and Mean Squared Error\n",
    "r2 = r2_score(y_test, y_pred)\n",
    "mse = mean_squared_error(y_test, y_pred)\n",
    "\n",
    "print(f'R-squared: {r2:.4f}')\n",
    "print(f'Mean Squared Error: {mse:.4f}')"
   ]
  },
  {
   "cell_type": "code",
   "execution_count": null,
   "metadata": {},
   "outputs": [
    {
     "name": "stdout",
     "output_type": "stream",
     "text": [
      "              Coefficient\n",
      "ETH_Returns  1.523896e+00\n",
      "Implied_APY  4.604451e-03\n",
      "claimed      4.407112e-11\n"
     ]
    }
   ],
   "source": [
    "# Display the coefficients of the model\n",
    "coefficients = pd.DataFrame(model.coef_, X.columns, columns=['Coefficient'])\n",
    "print(coefficients)\n"
   ]
  },
  {
   "cell_type": "code",
   "execution_count": null,
   "metadata": {},
   "outputs": [
    {
     "data": {
      "image/png": "[encoded data removed]",
      "text/plain": [
       "<Figure size 432x288 with 1 Axes>"
      ]
     },
     "metadata": {
      "needs_background": "light"
     },
     "output_type": "display_data"
    },
    {
     "data": {
      "image/png": "[encoded data removed]",
      "text/plain": [
       "<Figure size 432x288 with 1 Axes>"
      ]
     },
     "metadata": {
      "needs_background": "light"
     },
     "output_type": "display_data"
    }
   ],
   "source": [
    "plt.scatter(y_test, y_pred)\n",
    "plt.xlabel('Actual ENA Returns')\n",
    "plt.ylabel('Predicted ENA Returns')\n",
    "plt.title('Actual vs Predicted ENA Returns')\n",
    "plt.show()\n",
    "\n",
    "# Plot residuals\n",
    "residuals = y_test - y_pred\n",
    "plt.scatter(y_pred, residuals)\n",
    "plt.axhline(y=0, color='red', linestyle='--')\n",
    "plt.xlabel('Predicted ENA Returns')\n",
    "plt.ylabel('Residuals')\n",
    "plt.title('Residual Plot')\n",
    "plt.show()\n"
   ]
  },
  {
   "cell_type": "code",
   "execution_count": 339,
   "metadata": {},
   "outputs": [
    {
     "name": "stdout",
     "output_type": "stream",
     "text": [
      "Results of Dickey-Fuller Test for ETH Returns:\n",
      "Test Statistic: -30.75537976402534\n",
      "p-value: 0.0\n",
      "Critical Values:\n",
      "\t1%: -3.43725945868569\n",
      "\t5%: -2.8645903751292536\n",
      "\t10%: -2.5683941938438886\n",
      "Evidence against the null hypothesis, data is stationary\n",
      "Results of Dickey-Fuller Test for Pendle Yield for ENA:\n",
      "Test Statistic: -3.2552164487134263\n",
      "p-value: 0.017002895802169182\n",
      "Critical Values:\n",
      "\t1%: -3.437281430175827\n",
      "\t5%: -2.8646000638781532\n",
      "\t10%: -2.5683993544869015\n",
      "Evidence against the null hypothesis, data is stationary\n",
      "Results of Dickey-Fuller Test for Claimed Tokens from ENA Airdrop:\n",
      "Test Statistic: -30.806744246645042\n",
      "p-value: 0.0\n",
      "Critical Values:\n",
      "\t1%: -3.43725945868569\n",
      "\t5%: -2.8645903751292536\n",
      "\t10%: -2.5683941938438886\n",
      "Evidence against the null hypothesis, data is stationary\n"
     ]
    }
   ],
   "source": [
    "# Check stationarity\n",
    "# Load check_stationarity function from utils.py\n",
    "check_stationarity = utils.check_stationarity\n",
    "\n",
    "check_stationarity(df['ETH_Returns'], 'ETH Returns')\n",
    "check_stationarity(df['Implied_APY'], 'Pendle Yield for ENA')\n",
    "check_stationarity(df['claimed'], 'Claimed Tokens from ENA Airdrop')"
   ]
  },
  {
   "cell_type": "markdown",
   "metadata": {},
   "source": [
    "### Try out what lag of pendle yield explains the most of ENA returns, go up to lag 5"
   ]
  },
  {
   "cell_type": "code",
   "execution_count": 340,
   "metadata": {},
   "outputs": [
    {
     "name": "stdout",
     "output_type": "stream",
     "text": [
      "R-squared: -0.0369\n",
      "Mean Squared Error: 0.0002\n",
      "                        Coefficient\n",
      "Pendle_Yield_ENA_Lag_0     0.038803\n",
      "Pendle_Yield_ENA_Lag_1    -0.001371\n",
      "Pendle_Yield_ENA_Lag_2    -0.037353\n",
      "Pendle_Yield_ENA_Lag_3    -0.001636\n",
      "Pendle_Yield_ENA_Lag_4     0.017669\n",
      "Pendle_Yield_ENA_Lag_5    -0.009742\n"
     ]
    }
   ],
   "source": [
    "# Try out what lag of pendle yield explains the most of ENA returns, go up to lag 5\n",
    "for i in range(0, 6):\n",
    "    df[f'Pendle_Yield_ENA_Lag_{i}'] = df['Implied_APY'].shift(i)\n",
    "\n",
    "# Drop rows with missing values\n",
    "df.dropna(inplace=True)\n",
    "\n",
    "# Define the features and the target\n",
    "X = df.filter(like='Pendle_Yield_ENA_Lag')  # features\n",
    "y = df['ENA_Returns']                  # target\n",
    "\n",
    "# Split the dataset into training and testing sets\n",
    "X_train, X_test, y_train, y_test = train_test_split(X, y, test_size=0.2, random_state=42)\n",
    "\n",
    "# Create a linear regression model\n",
    "model = LinearRegression().fit(X_train, y_train)\n",
    "\n",
    "# Predict on the test data\n",
    "y_pred = model.predict(X_test)\n",
    "\n",
    "# Calculate R-squared and Mean Squared Error\n",
    "r2 = r2_score(y_test, y_pred)\n",
    "mse = mean_squared_error(y_test, y_pred)\n",
    "\n",
    "print(f'R-squared: {r2:.4f}')\n",
    "print(f'Mean Squared Error: {mse:.4f}')\n",
    "\n",
    "# Display the coefficients of the model\n",
    "coefficients = pd.DataFrame(model.coef_, X.columns, columns=['Coefficient'])\n",
    "print(coefficients)\n"
   ]
  },
  {
   "cell_type": "markdown",
   "metadata": {},
   "source": [
    "### Neural Net prediction"
   ]
  },
  {
   "cell_type": "code",
   "execution_count": 347,
   "metadata": {},
   "outputs": [
    {
     "name": "stderr",
     "output_type": "stream",
     "text": [
      "/tmp/ipykernel_35254/3191457423.py:2: SettingWithCopyWarning: \n",
      "A value is trying to be set on a copy of a slice from a DataFrame.\n",
      "Try using .loc[row_indexer,col_indexer] = value instead\n",
      "\n",
      "See the caveats in the documentation: https://pandas.pydata.org/pandas-docs/stable/user_guide/indexing.html#returning-a-view-versus-a-copy\n",
      "  neural_net_data['Target_ENA_Price'] = neural_net_data['ENA_Price'].shift(-1)\n"
     ]
    }
   ],
   "source": [
    "neural_net_data = df[['ENA_Price', 'ETH_Price', 'claimed', 'Implied_APY']]\n",
    "neural_net_data['Target_ENA_Price'] = neural_net_data['ENA_Price'].shift(-1)\n",
    "neural_net_data.dropna(inplace=True)"
   ]
  },
  {
   "cell_type": "code",
   "execution_count": 349,
   "metadata": {},
   "outputs": [],
   "source": [
    "# scale the data\n",
    "from sklearn.preprocessing import MinMaxScaler\n",
    "sc = MinMaxScaler(feature_range=(0,1))\n",
    "neural_net_data_scaled = sc.fit_transform(neural_net_data)"
   ]
  },
  {
   "cell_type": "code",
   "execution_count": 351,
   "metadata": {},
   "outputs": [
    {
     "data": {
      "text/html": [
       "<div>\n",
       "<style scoped>\n",
       "    .dataframe tbody tr th:only-of-type {\n",
       "        vertical-align: middle;\n",
       "    }\n",
       "\n",
       "    .dataframe tbody tr th {\n",
       "        vertical-align: top;\n",
       "    }\n",
       "\n",
       "    .dataframe thead th {\n",
       "        text-align: right;\n",
       "    }\n",
       "</style>\n",
       "<table border=\"1\" class=\"dataframe\">\n",
       "  <thead>\n",
       "    <tr style=\"text-align: right;\">\n",
       "      <th></th>\n",
       "      <th>ENA_Price</th>\n",
       "      <th>ETH_Price</th>\n",
       "      <th>claimed</th>\n",
       "      <th>Implied_APY</th>\n",
       "      <th>Target_ENA_Price</th>\n",
       "    </tr>\n",
       "  </thead>\n",
       "  <tbody>\n",
       "    <tr>\n",
       "      <th>914</th>\n",
       "      <td>0.915350</td>\n",
       "      <td>3028.308594</td>\n",
       "      <td>1087.002526</td>\n",
       "      <td>0.6673</td>\n",
       "      <td>0.912911</td>\n",
       "    </tr>\n",
       "    <tr>\n",
       "      <th>915</th>\n",
       "      <td>0.912911</td>\n",
       "      <td>3022.313721</td>\n",
       "      <td>7778.151574</td>\n",
       "      <td>0.6800</td>\n",
       "      <td>0.864655</td>\n",
       "    </tr>\n",
       "    <tr>\n",
       "      <th>916</th>\n",
       "      <td>0.864655</td>\n",
       "      <td>2944.836182</td>\n",
       "      <td>165.007142</td>\n",
       "      <td>0.6876</td>\n",
       "      <td>0.857230</td>\n",
       "    </tr>\n",
       "    <tr>\n",
       "      <th>917</th>\n",
       "      <td>0.857230</td>\n",
       "      <td>2919.212402</td>\n",
       "      <td>9963.417529</td>\n",
       "      <td>0.6712</td>\n",
       "      <td>0.845319</td>\n",
       "    </tr>\n",
       "    <tr>\n",
       "      <th>918</th>\n",
       "      <td>0.845319</td>\n",
       "      <td>2922.970703</td>\n",
       "      <td>9223.287630</td>\n",
       "      <td>0.6740</td>\n",
       "      <td>0.832443</td>\n",
       "    </tr>\n",
       "    <tr>\n",
       "      <th>...</th>\n",
       "      <td>...</td>\n",
       "      <td>...</td>\n",
       "      <td>...</td>\n",
       "      <td>...</td>\n",
       "      <td>...</td>\n",
       "    </tr>\n",
       "    <tr>\n",
       "      <th>2284</th>\n",
       "      <td>0.384410</td>\n",
       "      <td>3013.889404</td>\n",
       "      <td>674.441162</td>\n",
       "      <td>0.7663</td>\n",
       "      <td>0.386383</td>\n",
       "    </tr>\n",
       "    <tr>\n",
       "      <th>2285</th>\n",
       "      <td>0.386383</td>\n",
       "      <td>3020.968018</td>\n",
       "      <td>55.223052</td>\n",
       "      <td>0.8350</td>\n",
       "      <td>0.408672</td>\n",
       "    </tr>\n",
       "    <tr>\n",
       "      <th>2289</th>\n",
       "      <td>0.408672</td>\n",
       "      <td>3061.568604</td>\n",
       "      <td>1064.805000</td>\n",
       "      <td>0.8372</td>\n",
       "      <td>0.415883</td>\n",
       "    </tr>\n",
       "    <tr>\n",
       "      <th>2291</th>\n",
       "      <td>0.415883</td>\n",
       "      <td>3060.506348</td>\n",
       "      <td>26.244198</td>\n",
       "      <td>0.8412</td>\n",
       "      <td>0.413358</td>\n",
       "    </tr>\n",
       "    <tr>\n",
       "      <th>2292</th>\n",
       "      <td>0.413358</td>\n",
       "      <td>3065.938477</td>\n",
       "      <td>622.436730</td>\n",
       "      <td>0.8186</td>\n",
       "      <td>0.412295</td>\n",
       "    </tr>\n",
       "  </tbody>\n",
       "</table>\n",
       "<p>944 rows × 5 columns</p>\n",
       "</div>"
      ],
      "text/plain": [
       "      ENA_Price    ETH_Price      claimed  Implied_APY  Target_ENA_Price\n",
       "914    0.915350  3028.308594  1087.002526       0.6673          0.912911\n",
       "915    0.912911  3022.313721  7778.151574       0.6800          0.864655\n",
       "916    0.864655  2944.836182   165.007142       0.6876          0.857230\n",
       "917    0.857230  2919.212402  9963.417529       0.6712          0.845319\n",
       "918    0.845319  2922.970703  9223.287630       0.6740          0.832443\n",
       "...         ...          ...          ...          ...               ...\n",
       "2284   0.384410  3013.889404   674.441162       0.7663          0.386383\n",
       "2285   0.386383  3020.968018    55.223052       0.8350          0.408672\n",
       "2289   0.408672  3061.568604  1064.805000       0.8372          0.415883\n",
       "2291   0.415883  3060.506348    26.244198       0.8412          0.413358\n",
       "2292   0.413358  3065.938477   622.436730       0.8186          0.412295\n",
       "\n",
       "[944 rows x 5 columns]"
      ]
     },
     "execution_count": 351,
     "metadata": {},
     "output_type": "execute_result"
    }
   ],
   "source": [
    "neural_net_data"
   ]
  },
  {
   "cell_type": "markdown",
   "metadata": {},
   "source": [
    "### Thoughts for next steps\n",
    "- Can ENA be explained by X?\n",
    "- Granger causality tests to investigate lead-lag relationships\n",
    "- Cointegration tests\n",
    "- LSTM to check if we can predict ENA prices based on the variables of interest"
   ]
  }
 ],
 "metadata": {
  "kernelspec": {
   "display_name": "base",
   "language": "python",
   "name": "python3"
  },
  "language_info": {
   "codemirror_mode": {
    "name": "ipython",
    "version": 3
   },
   "file_extension": ".py",
   "mimetype": "text/x-python",
   "name": "python",
   "nbconvert_exporter": "python",
   "pygments_lexer": "ipython3",
   "version": "3.9.7"
  }
 },
 "nbformat": 4,
 "nbformat_minor": 2
}
