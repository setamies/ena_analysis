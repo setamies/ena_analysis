{
 "cells": [
  {
   "cell_type": "code",
   "execution_count": 1,
   "metadata": {},
   "outputs": [],
   "source": [
    "import pandas as pd\n",
    "import numpy as np\n",
    "import matplotlib.pyplot as plt\n",
    "import seaborn as sns\n",
    "import yfinance as yf\n",
    "import dotenv\n",
    "import os\n",
    "import utils\n",
    "\n",
    "# Import specific client handling for Dune analytics\n",
    "from dune_client.types import QueryParameter\n",
    "from dune_client.client import DuneClient\n",
    "from dune_client.query import QueryBase\n",
    "from flipside import Flipside"
   ]
  },
  {
   "cell_type": "code",
   "execution_count": 2,
   "metadata": {},
   "outputs": [],
   "source": [
    "# Load .env environment variables\n",
    "dotenv.load_dotenv()\n",
    "\n",
    "# Setup Dune Analytics API client\n",
    "API_KEY = os.getenv('API_KEY')\n",
    "FLIPSIDE_API_KEY = os.getenv('FLIPSIDE_API_KEY')\n",
    "dune = DuneClient(api_key=API_KEY, base_url=\"https://api.dune.com\", request_timeout=300)\n"
   ]
  },
  {
   "cell_type": "code",
   "execution_count": 3,
   "metadata": {},
   "outputs": [
    {
     "name": "stdout",
     "output_type": "stream",
     "text": [
      "[*********************100%***********************]  1 of 1 completed\n",
      "[*********************100%***********************]  1 of 1 completed\n"
     ]
    }
   ],
   "source": [
    "# Download historical price data for ETH and ENA from Yahoo Finance\n",
    "eth_hourly = yf.download('ETH-USD', start='2024-04-02', end='2024-07-07', interval='1h')['Close']\n",
    "ena_hourly = yf.download('ENA-USD', start='2024-04-02', end='2024-07-07', interval='1h')['Close']\n",
    "\n",
    "# Trim the dataset to make make ETH and ENA data equally large\n",
    "\n",
    "start_time = pd.Timestamp('2024-04-02 10:00:00', tz='UTC')\n",
    "\n",
    "# Trim the data to start from the specified timezone-aware time\n",
    "eth_hourly = eth_hourly[eth_hourly.index >= start_time]\n",
    "ena_hourly = ena_hourly[ena_hourly.index >= start_time]\n"
   ]
  },
  {
   "cell_type": "code",
   "execution_count": 4,
   "metadata": {},
   "outputs": [],
   "source": [
    "# Calculate hourly returns for ETH and ENA\n",
    "eth_hourly_returns = eth_hourly.pct_change()\n",
    "ena_hourly_returns = ena_hourly.pct_change()\n"
   ]
  },
  {
   "cell_type": "code",
   "execution_count": 5,
   "metadata": {},
   "outputs": [
    {
     "data": {
      "text/plain": [
       "'\\nquery = QueryBase(\\n    query_id=3584284 # https://dune.com/queries/3568055 -> DEX Pair Stats\\n)\\n\\nquery_result = dune.get_latest_result_dataframe(\\n    query=query\\n    , filters=\"Calimed > 1000\"\\n    , sort_by=[\"Calimed desc\"]\\n) \\n\\nquery_result.drop(columns=[\\'Debank\\', \\'Arkham\\', \\'ENS\\', \\'Address\\'], inplace=True)\\nquery_result.rename(columns={\\'Calimed\\': \\'Claimed\\'}, inplace=True)\\n\\n# to csv\\nquery_result.to_csv(\\'ena_claimed_data.csv\\', index=False)\\n'"
      ]
     },
     "execution_count": 5,
     "metadata": {},
     "output_type": "execute_result"
    }
   ],
   "source": [
    "\"\"\"\n",
    "query = QueryBase(\n",
    "    query_id=3584284 # https://dune.com/queries/3568055 -> DEX Pair Stats\n",
    ")\n",
    "\n",
    "query_result = dune.get_latest_result_dataframe(\n",
    "    query=query\n",
    "    , filters=\"Calimed > 1000\"\n",
    "    , sort_by=[\"Calimed desc\"]\n",
    ") \n",
    "\n",
    "query_result.drop(columns=['Debank', 'Arkham', 'ENS', 'Address'], inplace=True)\n",
    "query_result.rename(columns={'Calimed': 'Claimed'}, inplace=True)\n",
    "\n",
    "# to csv\n",
    "query_result.to_csv('ena_claimed_data.csv', index=False)\n",
    "\"\"\""
   ]
  },
  {
   "cell_type": "code",
   "execution_count": 6,
   "metadata": {},
   "outputs": [
    {
     "data": {
      "text/plain": [
       "\"\\n# Fetch and process airdrop claim data from Dune Analytics\\nquery_id = 3583363  # This is a hypothetical ID for the query\\nquery_result_df = dune.get_latest_result_dataframe(query=query_id)\\nquery_result_df['Datetime'] = pd.to_datetime(query_result_df['block_hour'])\\nquery_result_df['Date'] = query_result_df['Datetime'].dt.date\\ndaily_claimed_tokens = query_result_df.groupby('Date')['claimed'].sum().reset_index()\\n\""
      ]
     },
     "execution_count": 6,
     "metadata": {},
     "output_type": "execute_result"
    }
   ],
   "source": [
    "\"\"\"\n",
    "# Fetch and process airdrop claim data from Dune Analytics\n",
    "query_id = 3583363  # This is a hypothetical ID for the query\n",
    "query_result_df = dune.get_latest_result_dataframe(query=query_id)\n",
    "query_result_df['Datetime'] = pd.to_datetime(query_result_df['block_hour'])\n",
    "query_result_df['Date'] = query_result_df['Datetime'].dt.date\n",
    "daily_claimed_tokens = query_result_df.groupby('Date')['claimed'].sum().reset_index()\n",
    "\"\"\"\n"
   ]
  },
  {
   "cell_type": "code",
   "execution_count": 7,
   "metadata": {},
   "outputs": [],
   "source": [
    "# Load Pendle ENA yield hourly data\n",
    "ena_hourly_yield = pd.read_csv('ENA_fixed_yield_hourly.csv')\n",
    "\n",
    "# Convert 'time' to datetime with timezone, and then convert to UTC\n",
    "ena_hourly_yield['time'] = pd.to_datetime(ena_hourly_yield['time'], format='%a %b %d %Y %H:%M:%S GMT%z (Eastern European Summer Time)')\n",
    "ena_hourly_yield['time'] = ena_hourly_yield['time'].dt.tz_convert('UTC')\n",
    "\n",
    "# Rename columns\n",
    "ena_hourly_yield.rename(columns={'time': 'Datetime', 'impliedApy': 'Implied_APY'}, inplace=True)\n"
   ]
  },
  {
   "cell_type": "code",
   "execution_count": 8,
   "metadata": {},
   "outputs": [],
   "source": [
    "\n",
    "# Initialize `Flipside` with your API Key and API Url\n",
    "flipside = Flipside(FLIPSIDE_API_KEY, \"https://api-v2.flipsidecrypto.xyz\")\n",
    "sql = \"\"\"\n",
    "with\n",
    "\n",
    "A as(       select 'ethereum' as chain, origin_from_address as user, from_address as contract, to_address   as pool,     amount as amount, contract_address, block_timestamp from ethereum.core.ez_token_transfers \n",
    "union all   select 'ethereum' as chain, origin_to_address   as user, to_address   as contract, from_address as pool, 0 - amount as amount, contract_address, block_timestamp from ethereum.core.ez_token_transfers \n",
    "),\n",
    "\n",
    "-- stake\n",
    "B as(\n",
    "select    date_trunc('day',block_timestamp) as time, 'Manual stake' as action, sum(amount) as stake\n",
    "from      A \n",
    "where     contract_address = '0x57e114b691db790c35207b2e685d4a43181e6061'\n",
    "and       pool in ('0x8707f238936c12c309bfc2b9959c35828acfc512')\n",
    "group by  1,2),\n",
    "\n",
    "-- fill gap\n",
    "T1 as (select distinct time  from B),\n",
    "T2 as (select distinct action from B),\n",
    "T as( select time, action from T1, T2 group by 1,2),\n",
    "\n",
    "C as(\n",
    "select    a.time, a.action, case when stake is null then 0 else stake end as stake\n",
    "from      T as a \n",
    "left join B as b on a.time = b.time and a.action = b.action),\n",
    "\n",
    "D as(\n",
    "select    time, action, \n",
    "          stake,\n",
    "          sum(stake) over(partition by action order by time) as stake_action,\n",
    "          sum(stake) over(order by time) as stake_total\n",
    "from      C),\n",
    "\n",
    "P as(     \n",
    "select    date(hour) as date, token_address, avg(price) as price \n",
    "from       ethereum.price.ez_prices_hourly\n",
    "where     token_address  = '0x57e114b691db790c35207b2e685d4a43181e6061'\n",
    "group by  1,2 ),\n",
    "\n",
    "-- total supply\n",
    "AC as(     select from_address as contract,     amount as amount, contract_address, block_timestamp from ethereum.core.ez_token_transfers \n",
    "union all  select to_address   as contract, 0 - amount as amount, contract_address, block_timestamp from ethereum.core.ez_token_transfers \n",
    "),\n",
    "\n",
    "BC as(\n",
    "select    sum(amount) as amount\n",
    "from      AC\n",
    "where     contract_address = '0x57e114b691db790c35207b2e685d4a43181e6061'\n",
    "and       contract in ('0x0000000000000000000000000000000000000000')\n",
    "),\n",
    "\n",
    "E as(\n",
    "select    'ENA' as token, 'Staking TVL' as pool,\n",
    "           time, price,\n",
    "           stake,        price*stake        as tvl_daily,\n",
    "           stake_total,  price*stake_total  as tvl_total\n",
    "from       D  as a \n",
    "left join  P  as b on date(a.time) = b.date )\n",
    "\n",
    "\n",
    "\n",
    "select    *,\n",
    "          case when time = (select max(time) from E) then stake_total else null end as pie,\n",
    "          case when time = (select max(time) from E) then round(stake_total/(select amount from BC)*100,4) end as supply_rate\n",
    "from      E\n",
    "order by  time desc\n",
    "\"\"\"\n",
    "\n",
    "# Run the query against Flipside's query engine and await the results\n",
    "query_result_set = flipside.query(sql)\n",
    "\n",
    "# Function to auto-paginate query results from flipside\n",
    "def auto_paginate_result(query_result_set, page_size=10000):\n",
    "    \"\"\"\n",
    "    This function auto-paginates a query result to get all the data. It assumes 10,000 rows per page.\n",
    "    In case of an error, reduce the page size. Uses numpy.\n",
    "    \"\"\"\n",
    "    num_rows = query_result_set.page.totalRows\n",
    "    page_count = np.ceil(num_rows / page_size).astype(int)\n",
    "    all_rows = []\n",
    "    current_page = 1\n",
    "    while current_page <= page_count:\n",
    "        results = flipside.get_query_results(\n",
    "            query_result_set.query_id,\n",
    "            page_number=current_page,\n",
    "            page_size=page_size\n",
    "        )\n",
    "\n",
    "        if results.records:\n",
    "            all_rows.extend(results.records)  # Use extend() to add list elements\n",
    "\n",
    "        current_page += 1  # Increment the current page number\n",
    "\n",
    "    return all_rows  # Return all_rows in JSON format\n",
    "\n",
    "ena_stake_data_json = auto_paginate_result(query_result_set)\n",
    "# Create a new json file with the results\n",
    "\n",
    "ena_stake_data = pd.DataFrame(ena_stake_data_json)"
   ]
  },
  {
   "cell_type": "code",
   "execution_count": 10,
   "metadata": {},
   "outputs": [
    {
     "data": {
      "text/plain": [
       "[<matplotlib.lines.Line2D at 0x7fa11974fd00>]"
      ]
     },
     "execution_count": 10,
     "metadata": {},
     "output_type": "execute_result"
    },
    {
     "data": {
      "image/png": "[encoded data removed]",
      "text/plain": [
       "<Figure size 864x432 with 1 Axes>"
      ]
     },
     "metadata": {
      "needs_background": "light"
     },
     "output_type": "display_data"
    }
   ],
   "source": [
    "ena_stake_data_daily = ena_stake_data[['time', 'stake', 'stake_total']].rename(columns={'time': 'Datetime', 'stake': 'Stake', 'stake_total': 'Total_Stake'})\n",
    "\n",
    "# Turn the datetime column into a datetime object\n",
    "ena_stake_data_daily['Datetime'] = pd.to_datetime(ena_stake_data_daily['Datetime'])"
   ]
  },
  {
   "cell_type": "markdown",
   "metadata": {},
   "source": [
    "## Try to create an hourly df"
   ]
  },
  {
   "cell_type": "code",
   "execution_count": null,
   "metadata": {},
   "outputs": [],
   "source": [
    "df_hourly = pd.DataFrame({\n",
    "    'Datetime': eth_hourly.index,\n",
    "    'ETH_Price': eth_hourly.values,\n",
    "    'ETH_Returns': eth_hourly_returns.values,\n",
    "    'ENA_Price': ena_hourly.values,\n",
    "    'ENA_Returns': ena_hourly_returns.values\n",
    "})\n",
    "\n",
    "df_hourly = df_hourly.merge(query_result_df[['Datetime', 'claimed', 'total_claimed']], on='Datetime', how='left')\n",
    "df_hourly = df_hourly.merge(ena_hourly_yield[['Datetime', 'Implied_APY']], on='Datetime', how='left')"
   ]
  },
  {
   "cell_type": "code",
   "execution_count": null,
   "metadata": {},
   "outputs": [],
   "source": [
    "# Store the hourly data to csv\n",
    "# df_hourly.to_csv('ena_1h_data.csv', index=False)"
   ]
  },
  {
   "cell_type": "code",
   "execution_count": null,
   "metadata": {},
   "outputs": [],
   "source": [
    "# Now create a 1 day and 4h df from the 1h df\n",
    "df_4h = df_hourly.resample('4H', on='Datetime').agg({\n",
    "    'ETH_Price': 'last',\n",
    "    'ETH_Returns': 'sum',\n",
    "    'ENA_Price': 'last',\n",
    "    'ENA_Returns': 'sum',\n",
    "    'claimed': 'sum',\n",
    "    'total_claimed': 'last',\n",
    "    'Implied_APY': 'mean'\n",
    "}).reset_index()\n",
    "\n",
    "df_1d = df_hourly.resample('1D', on='Datetime').agg({\n",
    "    'ETH_Price': 'last',\n",
    "    'ETH_Returns': 'sum',\n",
    "    'ENA_Price': 'last',\n",
    "    'ENA_Returns': 'sum',\n",
    "    'claimed': 'sum',\n",
    "    'total_claimed': 'last',\n",
    "    'Implied_APY': 'mean'\n",
    "}).reset_index()\n",
    "\n",
    "# Store both of these dataframes to CSV\n",
    "# df_1d.to_csv('ena_1d_data.csv', index=False)\n",
    "# df_4h.to_csv('ena_4h_data.csv', index=False)"
   ]
  },
  {
   "cell_type": "code",
   "execution_count": 31,
   "metadata": {},
   "outputs": [],
   "source": [
    "# Add the stake data to the 1d df\n",
    "df_1d = pd.read_csv('ena_1d_data.csv')\n",
    "\n",
    "# Turn the datetime column into a datetime object\n",
    "df_1d['Datetime'] = pd.to_datetime(df_1d['Datetime'])\n",
    "\n",
    "df_1d = df_1d.merge(ena_stake_data_daily, on='Datetime', how='left')\n",
    "\n",
    "# Store the final 1d df to csv\n",
    "df_1d.to_csv('ena_1d_data.csv', index=False)\n"
   ]
  }
 ],
 "metadata": {
  "kernelspec": {
   "display_name": "base",
   "language": "python",
   "name": "python3"
  },
  "language_info": {
   "codemirror_mode": {
    "name": "ipython",
    "version": 3
   },
   "file_extension": ".py",
   "mimetype": "text/x-python",
   "name": "python",
   "nbconvert_exporter": "python",
   "pygments_lexer": "ipython3",
   "version": "3.9.7"
  }
 },
 "nbformat": 4,
 "nbformat_minor": 2
}
